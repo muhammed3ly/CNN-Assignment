{
 "cells": [
  {
   "cell_type": "markdown",
   "metadata": {
    "colab_type": "text",
    "id": "view-in-github"
   },
   "source": [
    "<a href=\"https://colab.research.google.com/github/muhammed3ly/CNN-Assignment/blob/master/.ipynb_checkpoints/CNN%20assignment-checkpoint.ipynb\" target=\"_parent\"><img src=\"https://colab.research.google.com/assets/colab-badge.svg\" alt=\"Open In Colab\"/></a>"
   ]
  },
  {
   "cell_type": "code",
   "execution_count": 1,
   "metadata": {
    "colab": {
     "base_uri": "https://localhost:8080/",
     "height": 33
    },
    "colab_type": "code",
    "id": "HwKBLvl1L5qb",
    "outputId": "e91160c1-7a2f-4dcb-f5ea-51c40061a5b1"
   },
   "outputs": [
    {
     "name": "stdout",
     "output_type": "stream",
     "text": [
      "Populating the interactive namespace from numpy and matplotlib\n"
     ]
    },
    {
     "name": "stderr",
     "output_type": "stream",
     "text": [
      "Using TensorFlow backend.\n"
     ]
    }
   ],
   "source": [
    "%pylab inline\n",
    "import os\n",
    "import numpy as np\n",
    "import pandas as pd\n",
    "import h5py\n",
    "from sklearn.metrics import accuracy_score\n",
    "import tensorflow as tf\n",
    "import keras\n",
    "from keras.models import Sequential\n",
    "from keras.callbacks import EarlyStopping\n",
    "from keras.layers import Dense, Activation, Dropout, Convolution2D, Flatten, MaxPooling2D, Reshape, InputLayer, AveragePooling2D\n",
    "from keras.datasets import fashion_mnist\n",
    "from keras.utils import to_categorical\n",
    "from sklearn.model_selection import train_test_split\n",
    "random.seed(10)"
   ]
  },
  {
   "cell_type": "code",
   "execution_count": 2,
   "metadata": {
    "colab": {},
    "colab_type": "code",
    "id": "Kr3E3myzL5qk"
   },
   "outputs": [],
   "source": [
    "((trainX, trainY), (testX, testY)) = fashion_mnist.load_data()"
   ]
  },
  {
   "cell_type": "code",
   "execution_count": 3,
   "metadata": {
    "colab": {
     "base_uri": "https://localhost:8080/",
     "height": 50
    },
    "colab_type": "code",
    "id": "snop9q2_L5qo",
    "outputId": "d0451427-81d7-4b61-ef5f-fc5c75f88d87"
   },
   "outputs": [
    {
     "name": "stdout",
     "output_type": "stream",
     "text": [
      "Total number of outputs :  10\n",
      "Output classes :  [0 1 2 3 4 5 6 7 8 9]\n"
     ]
    }
   ],
   "source": [
    "classes = np.unique(trainY)\n",
    "nClasses = len(classes)\n",
    "print('Total number of outputs : ', nClasses)\n",
    "print('Output classes : ', classes)"
   ]
  },
  {
   "cell_type": "code",
   "execution_count": null,
   "metadata": {
    "colab": {
     "base_uri": "https://localhost:8080/",
     "height": 207
    },
    "colab_type": "code",
    "id": "GNhHzhb7L5qs",
    "outputId": "70299e42-d58b-45cb-8d6d-addafbdcf71c"
   },
   "outputs": [
    {
     "data": {
      "text/plain": [
       "Text(0.5, 1.0, 'Ground Truth : 9')"
      ]
     },
     "execution_count": 4,
     "metadata": {},
     "output_type": "execute_result"
    },
    {
     "data": {
      "image/png": "[encoded data removed]",
      "text/plain": [
       "<Figure size 360x360 with 2 Axes>"
      ]
     },
     "metadata": {
      "needs_background": "light"
     },
     "output_type": "display_data"
    }
   ],
   "source": [
    "plt.figure(figsize=[5,5])\n",
    "\n",
    "# Display the first image in training data\n",
    "plt.subplot(121)\n",
    "plt.imshow(trainX[0,:,:], cmap='gray')\n",
    "plt.title(\"Ground Truth : {}\".format(trainY[0]))\n",
    "\n",
    "# Display the first image in testing data\n",
    "plt.subplot(122)\n",
    "plt.imshow(testX[0,:,:], cmap='gray')\n",
    "plt.title(\"Ground Truth : {}\".format(testY[0]))"
   ]
  },
  {
   "cell_type": "code",
   "execution_count": null,
   "metadata": {
    "colab": {
     "base_uri": "https://localhost:8080/",
     "height": 33
    },
    "colab_type": "code",
    "id": "1N12OQnQL5qw",
    "outputId": "4812b73f-1b4d-46c8-b12e-3acd556b4092"
   },
   "outputs": [],
   "source": [
    "trainX = trainX.reshape(-1, 28,28, 1)\n",
    "testX = testX.reshape(-1, 28,28, 1)\n",
    "trainX.shape, testX.shape"
   ]
  },
  {
   "cell_type": "code",
   "execution_count": null,
   "metadata": {
    "colab": {},
    "colab_type": "code",
    "id": "lgxeqwLpL5q0"
   },
   "outputs": [],
   "source": [
    "trainX = trainX.astype('float32')\n",
    "testX = testX.astype('float32')\n",
    "testX /= 255.0\n",
    "trainX /= 255.0"
   ]
  },
  {
   "cell_type": "code",
   "execution_count": null,
   "metadata": {
    "colab": {
     "base_uri": "https://localhost:8080/",
     "height": 134
    },
    "colab_type": "code",
    "id": "MPS2-zc_L5q3",
    "outputId": "7a561d68-94df-4ab9-c98f-e5ceab15bf96"
   },
   "outputs": [],
   "source": [
    "trainY = to_categorical(trainY)\n",
    "trainY"
   ]
  },
  {
   "cell_type": "code",
   "execution_count": null,
   "metadata": {
    "colab": {
     "base_uri": "https://localhost:8080/",
     "height": 134
    },
    "colab_type": "code",
    "id": "nc8dUSI5L5q6",
    "outputId": "b0242a4f-1afb-4a65-f223-f7d7dd61c4ed"
   },
   "outputs": [],
   "source": [
    "testY = to_categorical(testY)\n",
    "testY"
   ]
  },
  {
   "cell_type": "code",
   "execution_count": null,
   "metadata": {
    "colab": {},
    "colab_type": "code",
    "id": "L1LpM5MlL5q-"
   },
   "outputs": [],
   "source": [
    "trainX,validX,trainY,validY = train_test_split(trainX, trainY, test_size=0.2, random_state=42)"
   ]
  },
  {
   "cell_type": "code",
   "execution_count": null,
   "metadata": {
    "colab": {
     "base_uri": "https://localhost:8080/",
     "height": 555
    },
    "colab_type": "code",
    "id": "avuOG2IGL5rC",
    "outputId": "a4c6bdd7-ce14-49ac-8d69-8218b5c35d8c",
    "scrolled": false
   },
   "outputs": [],
   "source": [
    "input_reshape = (28, 28, 1)\n",
    "\n",
    "pool_size = (2, 2)\n",
    "\n",
    "hidden_num_units = 30\n",
    "output_num_units = 10\n",
    "\n",
    "epochs = 35\n",
    "batch_size = 64\n",
    "\n",
    "model = Sequential([\n",
    " Convolution2D(32, kernel_size = (3, 3) ,activation='relu',input_shape=(28,28,1)),\n",
    "    \n",
    " Convolution2D(64, 3, 3, activation='relu', name = 'Conv1'),\n",
    " MaxPooling2D(pool_size=pool_size, name = 'Pooling1'),\n",
    "\n",
    " Convolution2D(128, 3, 3, activation='relu', name = 'Conv2'),\n",
    " MaxPooling2D(pool_size=pool_size, name = 'Pooling2'),\n",
    "\n",
    " Flatten(),\n",
    "\n",
    " Dense(output_dim=hidden_num_units, activation='relu', name = 'Dense1'),\n",
    " Dropout(0.6),\n",
    "    \n",
    " Dense(output_dim=output_num_units, activation='softmax', name = 'out'),\n",
    "])\n",
    "\n",
    "model.compile(loss='categorical_crossentropy', optimizer='adam', metrics=['accuracy'])\n",
    "model.summary()"
   ]
  },
  {
   "cell_type": "code",
   "execution_count": null,
   "metadata": {},
   "outputs": [],
   "source": [
    "model.load_weights('model_weights.h5')"
   ]
  },
  {
   "cell_type": "code",
   "execution_count": null,
   "metadata": {
    "scrolled": true
   },
   "outputs": [],
   "source": [
    "test_eval = model.evaluate(testX, testY, verbose=0)"
   ]
  },
  {
   "cell_type": "code",
   "execution_count": null,
   "metadata": {},
   "outputs": [],
   "source": [
    "test_eval"
   ]
  }
 ],
 "metadata": {
  "accelerator": "GPU",
  "colab": {
   "include_colab_link": true,
   "name": "CNN assignment-checkpoint.ipynb",
   "provenance": [],
   "version": "0.3.2"
  },
  "kernelspec": {
   "display_name": "Python 3",
   "language": "python",
   "name": "python3"
  },
  "language_info": {
   "codemirror_mode": {
    "name": "ipython",
    "version": 3
   },
   "file_extension": ".py",
   "mimetype": "text/x-python",
   "name": "python",
   "nbconvert_exporter": "python",
   "pygments_lexer": "ipython3",
   "version": "3.7.3"
  }
 },
 "nbformat": 4,
 "nbformat_minor": 2
}
