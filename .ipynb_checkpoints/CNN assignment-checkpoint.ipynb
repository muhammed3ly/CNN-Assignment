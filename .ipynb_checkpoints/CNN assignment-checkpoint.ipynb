{
  "nbformat": 4,
  "nbformat_minor": 0,
  "metadata": {
    "kernelspec": {
      "name": "python3",
      "display_name": "Python 3"
    },
    "language_info": {
      "codemirror_mode": {
        "name": "ipython",
        "version": 3
      },
      "file_extension": ".py",
      "mimetype": "text/x-python",
      "name": "python",
      "nbconvert_exporter": "python",
      "pygments_lexer": "ipython3",
      "version": "3.7.3"
    },
    "colab": {
      "name": "CNN assignment-checkpoint.ipynb",
      "version": "0.3.2",
      "provenance": [],
      "include_colab_link": true
    },
    "accelerator": "GPU"
  },
  "cells": [
    {
      "cell_type": "markdown",
      "metadata": {
        "id": "view-in-github",
        "colab_type": "text"
      },
      "source": [
        "<a href=\"https://colab.research.google.com/github/muhammed3ly/CNN-Assignment/blob/master/.ipynb_checkpoints/CNN%20assignment-checkpoint.ipynb\" target=\"_parent\"><img src=\"https://colab.research.google.com/assets/colab-badge.svg\" alt=\"Open In Colab\"/></a>"
      ]
    },
    {
      "cell_type": "code",
      "metadata": {
        "id": "HwKBLvl1L5qb",
        "colab_type": "code",
        "colab": {
          "base_uri": "https://localhost:8080/",
          "height": 33
        },
        "outputId": "e91160c1-7a2f-4dcb-f5ea-51c40061a5b1"
      },
      "source": [
        "%pylab inline\n",
        "import os\n",
        "import numpy as np\n",
        "import pandas as pd\n",
        "import h5py\n",
        "from sklearn.metrics import accuracy_score\n",
        "import tensorflow as tf\n",
        "import keras\n",
        "from keras.models import Sequential\n",
        "from keras.callbacks import EarlyStopping\n",
        "from keras.layers import Dense, Activation, Dropout, Convolution2D, Flatten, MaxPooling2D, Reshape, InputLayer, AveragePooling2D\n",
        "from keras.datasets import fashion_mnist\n",
        "from keras.utils import to_categorical\n",
        "from sklearn.model_selection import train_test_split\n",
        "random.seed(10)"
      ],
      "execution_count": 63,
      "outputs": [
        {
          "output_type": "stream",
          "text": [
            "Populating the interactive namespace from numpy and matplotlib\n"
          ],
          "name": "stdout"
        }
      ]
    },
    {
      "cell_type": "code",
      "metadata": {
        "id": "Kr3E3myzL5qk",
        "colab_type": "code",
        "colab": {}
      },
      "source": [
        "((trainX, trainY), (testX, testY)) = fashion_mnist.load_data()"
      ],
      "execution_count": 0,
      "outputs": []
    },
    {
      "cell_type": "code",
      "metadata": {
        "id": "snop9q2_L5qo",
        "colab_type": "code",
        "colab": {
          "base_uri": "https://localhost:8080/",
          "height": 50
        },
        "outputId": "d0451427-81d7-4b61-ef5f-fc5c75f88d87"
      },
      "source": [
        "classes = np.unique(trainY)\n",
        "nClasses = len(classes)\n",
        "print('Total number of outputs : ', nClasses)\n",
        "print('Output classes : ', classes)"
      ],
      "execution_count": 65,
      "outputs": [
        {
          "output_type": "stream",
          "text": [
            "Total number of outputs :  10\n",
            "Output classes :  [0 1 2 3 4 5 6 7 8 9]\n"
          ],
          "name": "stdout"
        }
      ]
    },
    {
      "cell_type": "code",
      "metadata": {
        "id": "GNhHzhb7L5qs",
        "colab_type": "code",
        "colab": {
          "base_uri": "https://localhost:8080/",
          "height": 207
        },
        "outputId": "70299e42-d58b-45cb-8d6d-addafbdcf71c"
      },
      "source": [
        "plt.figure(figsize=[5,5])\n",
        "\n",
        "# Display the first image in training data\n",
        "plt.subplot(121)\n",
        "plt.imshow(trainX[0,:,:], cmap='gray')\n",
        "plt.title(\"Ground Truth : {}\".format(trainY[0]))\n",
        "\n",
        "# Display the first image in testing data\n",
        "plt.subplot(122)\n",
        "plt.imshow(testX[0,:,:], cmap='gray')\n",
        "plt.title(\"Ground Truth : {}\".format(testY[0]))"
      ],
      "execution_count": 66,
      "outputs": [
        {
          "output_type": "execute_result",
          "data": {
            "text/plain": [
              "Text(0.5, 1.0, 'Ground Truth : 9')"
            ]
          },
          "metadata": {
            "tags": []
          },
          "execution_count": 66
        },
        {
          "output_type": "display_data",
          "data": {
            "image/png": "[encoded data removed]",
            "text/plain": [
              "<Figure size 360x360 with 2 Axes>"
            ]
          },
          "metadata": {
            "tags": []
          }
        }
      ]
    },
    {
      "cell_type": "code",
      "metadata": {
        "id": "1N12OQnQL5qw",
        "colab_type": "code",
        "colab": {
          "base_uri": "https://localhost:8080/",
          "height": 33
        },
        "outputId": "4812b73f-1b4d-46c8-b12e-3acd556b4092"
      },
      "source": [
        "trainX = trainX.reshape(-1, 28,28, 1)\n",
        "testX = testX.reshape(-1, 28,28, 1)\n",
        "trainX.shape, testX.shape"
      ],
      "execution_count": 67,
      "outputs": [
        {
          "output_type": "execute_result",
          "data": {
            "text/plain": [
              "((60000, 28, 28, 1), (10000, 28, 28, 1))"
            ]
          },
          "metadata": {
            "tags": []
          },
          "execution_count": 67
        }
      ]
    },
    {
      "cell_type": "code",
      "metadata": {
        "id": "lgxeqwLpL5q0",
        "colab_type": "code",
        "colab": {}
      },
      "source": [
        "trainX = trainX.astype('float32')\n",
        "testX = testX.astype('float32')\n",
        "testX /= 255.0\n",
        "trainX /= 255.0"
      ],
      "execution_count": 0,
      "outputs": []
    },
    {
      "cell_type": "code",
      "metadata": {
        "id": "MPS2-zc_L5q3",
        "colab_type": "code",
        "colab": {
          "base_uri": "https://localhost:8080/",
          "height": 134
        },
        "outputId": "7a561d68-94df-4ab9-c98f-e5ceab15bf96"
      },
      "source": [
        "trainY = to_categorical(trainY)\n",
        "trainY"
      ],
      "execution_count": 69,
      "outputs": [
        {
          "output_type": "execute_result",
          "data": {
            "text/plain": [
              "array([[0., 0., 0., ..., 0., 0., 1.],\n",
              "       [1., 0., 0., ..., 0., 0., 0.],\n",
              "       [1., 0., 0., ..., 0., 0., 0.],\n",
              "       ...,\n",
              "       [0., 0., 0., ..., 0., 0., 0.],\n",
              "       [1., 0., 0., ..., 0., 0., 0.],\n",
              "       [0., 0., 0., ..., 0., 0., 0.]], dtype=float32)"
            ]
          },
          "metadata": {
            "tags": []
          },
          "execution_count": 69
        }
      ]
    },
    {
      "cell_type": "code",
      "metadata": {
        "id": "nc8dUSI5L5q6",
        "colab_type": "code",
        "colab": {
          "base_uri": "https://localhost:8080/",
          "height": 134
        },
        "outputId": "b0242a4f-1afb-4a65-f223-f7d7dd61c4ed"
      },
      "source": [
        "testY = to_categorical(testY)\n",
        "testY"
      ],
      "execution_count": 70,
      "outputs": [
        {
          "output_type": "execute_result",
          "data": {
            "text/plain": [
              "array([[0., 0., 0., ..., 0., 0., 1.],\n",
              "       [0., 0., 1., ..., 0., 0., 0.],\n",
              "       [0., 1., 0., ..., 0., 0., 0.],\n",
              "       ...,\n",
              "       [0., 0., 0., ..., 0., 1., 0.],\n",
              "       [0., 1., 0., ..., 0., 0., 0.],\n",
              "       [0., 0., 0., ..., 0., 0., 0.]], dtype=float32)"
            ]
          },
          "metadata": {
            "tags": []
          },
          "execution_count": 70
        }
      ]
    },
    {
      "cell_type": "code",
      "metadata": {
        "id": "L1LpM5MlL5q-",
        "colab_type": "code",
        "colab": {}
      },
      "source": [
        "trainX,validX,trainY,validY = train_test_split(trainX, trainY, test_size=0.2, random_state=42)"
      ],
      "execution_count": 0,
      "outputs": []
    },
    {
      "cell_type": "code",
      "metadata": {
        "id": "avuOG2IGL5rC",
        "colab_type": "code",
        "colab": {
          "base_uri": "https://localhost:8080/",
          "height": 555
        },
        "outputId": "a4c6bdd7-ce14-49ac-8d69-8218b5c35d8c"
      },
      "source": [
        "\n",
        "#train_x = train_x.reshape(1, 48000, 28, 28)\n",
        "# define vars\n",
        "input_reshape = (28, 28, 1)\n",
        "\n",
        "pool_size = (2, 2)\n",
        "\n",
        "hidden_num_units = 30\n",
        "output_num_units = 10\n",
        "\n",
        "epochs = 35\n",
        "batch_size = 64\n",
        "\n",
        "model = Sequential([\n",
        " Convolution2D(32, kernel_size = (3, 3) ,activation='relu',input_shape=(28,28,1)),\n",
        " Convolution2D(64, 3, 3, activation='relu', name = 'Conv1'),\n",
        " MaxPooling2D(pool_size=pool_size, name = 'Pooling1'),\n",
        "\n",
        " Convolution2D(128, 3, 3, activation='relu', name = 'Conv2'),\n",
        " MaxPooling2D(pool_size=pool_size, name = 'Pooling2'),\n",
        "# Convolution2D(64, 3, 3, activation='relu', name = 'Conv3'),\n",
        "\n",
        " Flatten(),\n",
        "\n",
        " Dense(output_dim=hidden_num_units, activation='relu', name = 'Dense1'),\n",
        " Dropout(0.6),\n",
        " Dense(output_dim=output_num_units, activation='softmax', name = 'out'),\n",
        "])\n",
        "\n",
        "model.compile(loss='categorical_crossentropy', optimizer='adam', metrics=['accuracy'])\n",
        "model.summary()"
      ],
      "execution_count": 75,
      "outputs": [
        {
          "output_type": "stream",
          "text": [
            "_________________________________________________________________\n",
            "Layer (type)                 Output Shape              Param #   \n",
            "=================================================================\n",
            "conv2d_24 (Conv2D)           (None, 26, 26, 32)        320       \n",
            "_________________________________________________________________\n",
            "Conv1 (Conv2D)               (None, 24, 24, 64)        18496     \n",
            "_________________________________________________________________\n",
            "Pooling1 (MaxPooling2D)      (None, 12, 12, 64)        0         \n",
            "_________________________________________________________________\n",
            "Conv2 (Conv2D)               (None, 10, 10, 128)       73856     \n",
            "_________________________________________________________________\n",
            "Pooling2 (MaxPooling2D)      (None, 5, 5, 128)         0         \n",
            "_________________________________________________________________\n",
            "flatten_23 (Flatten)         (None, 3200)              0         \n",
            "_________________________________________________________________\n",
            "Dense1 (Dense)               (None, 30)                96030     \n",
            "_________________________________________________________________\n",
            "dropout_42 (Dropout)         (None, 30)                0         \n",
            "_________________________________________________________________\n",
            "out (Dense)                  (None, 10)                310       \n",
            "=================================================================\n",
            "Total params: 189,012\n",
            "Trainable params: 189,012\n",
            "Non-trainable params: 0\n",
            "_________________________________________________________________\n"
          ],
          "name": "stdout"
        },
        {
          "output_type": "stream",
          "text": [
            "/usr/local/lib/python3.6/dist-packages/ipykernel_launcher.py:13: UserWarning: Update your `Conv2D` call to the Keras 2 API: `Conv2D(64, (3, 3), activation=\"relu\", name=\"Conv1\")`\n",
            "  del sys.path[0]\n",
            "/usr/local/lib/python3.6/dist-packages/ipykernel_launcher.py:16: UserWarning: Update your `Conv2D` call to the Keras 2 API: `Conv2D(128, (3, 3), activation=\"relu\", name=\"Conv2\")`\n",
            "  app.launch_new_instance()\n",
            "/usr/local/lib/python3.6/dist-packages/ipykernel_launcher.py:22: UserWarning: Update your `Dense` call to the Keras 2 API: `Dense(activation=\"relu\", name=\"Dense1\", units=30)`\n",
            "/usr/local/lib/python3.6/dist-packages/ipykernel_launcher.py:24: UserWarning: Update your `Dense` call to the Keras 2 API: `Dense(activation=\"softmax\", name=\"out\", units=10)`\n"
          ],
          "name": "stderr"
        }
      ]
    },
    {
      "cell_type": "code",
      "metadata": {
        "id": "B3hOcgL8L5rH",
        "colab_type": "code",
        "colab": {
          "base_uri": "https://localhost:8080/",
          "height": 1000
        },
        "outputId": "60606e28-d90f-4ab3-fdc5-67812d554840"
      },
      "source": [
        "trained_model_conv = model.fit(trainX, trainY, nb_epoch=epochs, batch_size = batch_size, validation_data=(validX, validY))"
      ],
      "execution_count": 76,
      "outputs": [
        {
          "output_type": "stream",
          "text": [
            "/usr/local/lib/python3.6/dist-packages/ipykernel_launcher.py:1: UserWarning: The `nb_epoch` argument in `fit` has been renamed `epochs`.\n",
            "  \"\"\"Entry point for launching an IPython kernel.\n"
          ],
          "name": "stderr"
        },
        {
          "output_type": "stream",
          "text": [
            "Train on 48000 samples, validate on 12000 samples\n",
            "Epoch 1/35\n",
            "48000/48000 [==============================] - 17s 345us/step - loss: 1.0964 - acc: 0.5886 - val_loss: 0.5160 - val_acc: 0.8095\n",
            "Epoch 2/35\n",
            "48000/48000 [==============================] - 14s 293us/step - loss: 0.7792 - acc: 0.7069 - val_loss: 0.4365 - val_acc: 0.8588\n",
            "Epoch 3/35\n",
            "48000/48000 [==============================] - 14s 296us/step - loss: 0.6804 - acc: 0.7435 - val_loss: 0.3865 - val_acc: 0.8648\n",
            "Epoch 4/35\n",
            "48000/48000 [==============================] - 14s 293us/step - loss: 0.6240 - acc: 0.7700 - val_loss: 0.3677 - val_acc: 0.8688\n",
            "Epoch 5/35\n",
            "48000/48000 [==============================] - 14s 291us/step - loss: 0.5866 - acc: 0.7859 - val_loss: 0.3155 - val_acc: 0.8940\n",
            "Epoch 6/35\n",
            "48000/48000 [==============================] - 14s 292us/step - loss: 0.5627 - acc: 0.7926 - val_loss: 0.3122 - val_acc: 0.8945\n",
            "Epoch 7/35\n",
            "48000/48000 [==============================] - 14s 289us/step - loss: 0.5317 - acc: 0.8070 - val_loss: 0.2888 - val_acc: 0.9008\n",
            "Epoch 8/35\n",
            "48000/48000 [==============================] - 14s 288us/step - loss: 0.5178 - acc: 0.8128 - val_loss: 0.2813 - val_acc: 0.9074\n",
            "Epoch 9/35\n",
            "48000/48000 [==============================] - 14s 288us/step - loss: 0.4976 - acc: 0.8209 - val_loss: 0.2806 - val_acc: 0.9077\n",
            "Epoch 10/35\n",
            "48000/48000 [==============================] - 14s 286us/step - loss: 0.4876 - acc: 0.8237 - val_loss: 0.2778 - val_acc: 0.9077\n",
            "Epoch 11/35\n",
            "48000/48000 [==============================] - 14s 284us/step - loss: 0.4745 - acc: 0.8273 - val_loss: 0.2857 - val_acc: 0.9055\n",
            "Epoch 12/35\n",
            "48000/48000 [==============================] - 13s 277us/step - loss: 0.4612 - acc: 0.8326 - val_loss: 0.2695 - val_acc: 0.9121\n",
            "Epoch 13/35\n",
            "48000/48000 [==============================] - 13s 278us/step - loss: 0.4587 - acc: 0.8344 - val_loss: 0.2690 - val_acc: 0.9093\n",
            "Epoch 14/35\n",
            "48000/48000 [==============================] - 13s 276us/step - loss: 0.4453 - acc: 0.8419 - val_loss: 0.2701 - val_acc: 0.9151\n",
            "Epoch 15/35\n",
            "48000/48000 [==============================] - 13s 278us/step - loss: 0.4312 - acc: 0.8457 - val_loss: 0.2700 - val_acc: 0.9133\n",
            "Epoch 16/35\n",
            "48000/48000 [==============================] - 13s 278us/step - loss: 0.4301 - acc: 0.8446 - val_loss: 0.2663 - val_acc: 0.9133\n",
            "Epoch 17/35\n",
            "48000/48000 [==============================] - 13s 278us/step - loss: 0.4187 - acc: 0.8508 - val_loss: 0.2686 - val_acc: 0.9153\n",
            "Epoch 18/35\n",
            "48000/48000 [==============================] - 13s 277us/step - loss: 0.4157 - acc: 0.8509 - val_loss: 0.2752 - val_acc: 0.9107\n",
            "Epoch 19/35\n",
            "48000/48000 [==============================] - 13s 277us/step - loss: 0.4109 - acc: 0.8530 - val_loss: 0.2723 - val_acc: 0.9117\n",
            "Epoch 20/35\n",
            "48000/48000 [==============================] - 13s 275us/step - loss: 0.3998 - acc: 0.8571 - val_loss: 0.2738 - val_acc: 0.9169\n",
            "Epoch 21/35\n",
            "48000/48000 [==============================] - 13s 274us/step - loss: 0.3944 - acc: 0.8590 - val_loss: 0.2702 - val_acc: 0.9147\n",
            "Epoch 22/35\n",
            "48000/48000 [==============================] - 13s 273us/step - loss: 0.3950 - acc: 0.8605 - val_loss: 0.2810 - val_acc: 0.9117\n",
            "Epoch 23/35\n",
            "48000/48000 [==============================] - 13s 273us/step - loss: 0.3906 - acc: 0.8619 - val_loss: 0.2758 - val_acc: 0.9153\n",
            "Epoch 24/35\n",
            "48000/48000 [==============================] - 13s 273us/step - loss: 0.3758 - acc: 0.8674 - val_loss: 0.2867 - val_acc: 0.9151\n",
            "Epoch 25/35\n",
            "48000/48000 [==============================] - 13s 273us/step - loss: 0.3733 - acc: 0.8685 - val_loss: 0.2718 - val_acc: 0.9153\n",
            "Epoch 26/35\n",
            "48000/48000 [==============================] - 13s 273us/step - loss: 0.3667 - acc: 0.8680 - val_loss: 0.3202 - val_acc: 0.9139\n",
            "Epoch 27/35\n",
            "48000/48000 [==============================] - 13s 271us/step - loss: 0.3641 - acc: 0.8700 - val_loss: 0.2817 - val_acc: 0.9173\n",
            "Epoch 28/35\n",
            "48000/48000 [==============================] - 13s 271us/step - loss: 0.3522 - acc: 0.8756 - val_loss: 0.2943 - val_acc: 0.9167\n",
            "Epoch 29/35\n",
            "48000/48000 [==============================] - 13s 276us/step - loss: 0.3445 - acc: 0.8790 - val_loss: 0.2893 - val_acc: 0.9168\n",
            "Epoch 30/35\n",
            "48000/48000 [==============================] - 13s 273us/step - loss: 0.3339 - acc: 0.8830 - val_loss: 0.2907 - val_acc: 0.9177\n",
            "Epoch 31/35\n",
            "48000/48000 [==============================] - 13s 272us/step - loss: 0.3294 - acc: 0.8844 - val_loss: 0.2821 - val_acc: 0.9193\n",
            "Epoch 32/35\n",
            "48000/48000 [==============================] - 13s 272us/step - loss: 0.3210 - acc: 0.8892 - val_loss: 0.3021 - val_acc: 0.9131\n",
            "Epoch 33/35\n",
            "48000/48000 [==============================] - 13s 272us/step - loss: 0.3178 - acc: 0.8907 - val_loss: 0.3110 - val_acc: 0.9183\n",
            "Epoch 34/35\n",
            "48000/48000 [==============================] - 13s 273us/step - loss: 0.3137 - acc: 0.8927 - val_loss: 0.3209 - val_acc: 0.9157\n",
            "Epoch 35/35\n",
            "48000/48000 [==============================] - 13s 271us/step - loss: 0.3103 - acc: 0.8918 - val_loss: 0.2936 - val_acc: 0.9220\n"
          ],
          "name": "stdout"
        }
      ]
    },
    {
      "cell_type": "code",
      "metadata": {
        "id": "KCnGCP_kL5rL",
        "colab_type": "code",
        "colab": {}
      },
      "source": [
        "# summarize history for accuracy\n",
        "plt.plot(trained_model_conv.history['acc'])\n",
        "plt.plot(trained_model_conv.history['val_acc'])\n",
        "plt.title('model accuracy')\n",
        "plt.ylabel('accuracy')\n",
        "plt.xlabel('epoch')\n",
        "plt.legend(['train', 'test'], loc='upper left')\n",
        "plt.show()\n",
        "# summarize history for loss\n",
        "plt.plot(trained_model_conv.history['loss'])\n",
        "plt.plot(trained_model_conv.history['val_loss'])\n",
        "plt.title('model loss')\n",
        "plt.ylabel('loss')\n",
        "plt.xlabel('epoch')\n",
        "plt.legend(['train', 'test'], loc='upper left')\n",
        "plt.show()"
      ],
      "execution_count": 0,
      "outputs": []
    }
  ]
}