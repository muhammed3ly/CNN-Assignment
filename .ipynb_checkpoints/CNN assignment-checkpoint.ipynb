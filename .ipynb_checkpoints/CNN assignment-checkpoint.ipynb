{
  "nbformat": 4,
  "nbformat_minor": 0,
  "metadata": {
    "kernelspec": {
      "name": "python3",
      "display_name": "Python 3"
    },
    "language_info": {
      "codemirror_mode": {
        "name": "ipython",
        "version": 3
      },
      "file_extension": ".py",
      "mimetype": "text/x-python",
      "name": "python",
      "nbconvert_exporter": "python",
      "pygments_lexer": "ipython3",
      "version": "3.7.3"
    },
    "colab": {
      "name": "CNN assignment-checkpoint.ipynb",
      "version": "0.3.2",
      "provenance": [],
      "include_colab_link": true
    },
    "accelerator": "GPU"
  },
  "cells": [
    {
      "cell_type": "markdown",
      "metadata": {
        "id": "view-in-github",
        "colab_type": "text"
      },
      "source": [
        "<a href=\"https://colab.research.google.com/github/muhammed3ly/CNN-Assignment/blob/master/.ipynb_checkpoints/CNN%20assignment-checkpoint.ipynb\" target=\"_parent\"><img src=\"https://colab.research.google.com/assets/colab-badge.svg\" alt=\"Open In Colab\"/></a>"
      ]
    },
    {
      "cell_type": "code",
      "metadata": {
        "id": "HwKBLvl1L5qb",
        "colab_type": "code",
        "colab": {
          "base_uri": "https://localhost:8080/",
          "height": 33
        },
        "outputId": "19a202a9-8510-4eb7-8c59-f03fe61b60f7"
      },
      "source": [
        "%pylab inline\n",
        "import os\n",
        "import numpy as np\n",
        "import pandas as pd\n",
        "import h5py\n",
        "from sklearn.metrics import accuracy_score\n",
        "import tensorflow as tf\n",
        "import keras\n",
        "from keras.models import Sequential\n",
        "from keras.callbacks import EarlyStopping\n",
        "from keras.layers import Dense, Activation, Dropout, Convolution2D, Flatten, MaxPooling2D, Reshape, InputLayer, AveragePooling2D\n",
        "from keras.datasets import fashion_mnist\n",
        "from keras.utils import to_categorical\n",
        "from sklearn.model_selection import train_test_split\n",
        "random.seed(10)"
      ],
      "execution_count": 19,
      "outputs": [
        {
          "output_type": "stream",
          "text": [
            "Populating the interactive namespace from numpy and matplotlib\n"
          ],
          "name": "stdout"
        }
      ]
    },
    {
      "cell_type": "code",
      "metadata": {
        "id": "Kr3E3myzL5qk",
        "colab_type": "code",
        "colab": {}
      },
      "source": [
        "((trainX, trainY), (testX, testY)) = fashion_mnist.load_data()"
      ],
      "execution_count": 0,
      "outputs": []
    },
    {
      "cell_type": "code",
      "metadata": {
        "id": "snop9q2_L5qo",
        "colab_type": "code",
        "colab": {
          "base_uri": "https://localhost:8080/",
          "height": 50
        },
        "outputId": "386d3bba-3d26-4328-e5dc-da9a273195e5"
      },
      "source": [
        "classes = np.unique(trainY)\n",
        "nClasses = len(classes)\n",
        "print('Total number of outputs : ', nClasses)\n",
        "print('Output classes : ', classes)"
      ],
      "execution_count": 21,
      "outputs": [
        {
          "output_type": "stream",
          "text": [
            "Total number of outputs :  10\n",
            "Output classes :  [0 1 2 3 4 5 6 7 8 9]\n"
          ],
          "name": "stdout"
        }
      ]
    },
    {
      "cell_type": "code",
      "metadata": {
        "id": "GNhHzhb7L5qs",
        "colab_type": "code",
        "colab": {
          "base_uri": "https://localhost:8080/",
          "height": 207
        },
        "outputId": "ac3861f6-e34f-4039-a5d6-af8e62249843"
      },
      "source": [
        "plt.figure(figsize=[5,5])\n",
        "\n",
        "# Display the first image in training data\n",
        "plt.subplot(121)\n",
        "plt.imshow(trainX[0,:,:], cmap='gray')\n",
        "plt.title(\"Ground Truth : {}\".format(trainY[0]))\n",
        "\n",
        "# Display the first image in testing data\n",
        "plt.subplot(122)\n",
        "plt.imshow(testX[0,:,:], cmap='gray')\n",
        "plt.title(\"Ground Truth : {}\".format(testY[0]))"
      ],
      "execution_count": 22,
      "outputs": [
        {
          "output_type": "execute_result",
          "data": {
            "text/plain": [
              "Text(0.5, 1.0, 'Ground Truth : 9')"
            ]
          },
          "metadata": {
            "tags": []
          },
          "execution_count": 22
        },
        {
          "output_type": "display_data",
          "data": {
            "image/png": "[encoded data removed]",
            "text/plain": [
              "<Figure size 360x360 with 2 Axes>"
            ]
          },
          "metadata": {
            "tags": []
          }
        }
      ]
    },
    {
      "cell_type": "code",
      "metadata": {
        "id": "1N12OQnQL5qw",
        "colab_type": "code",
        "colab": {
          "base_uri": "https://localhost:8080/",
          "height": 33
        },
        "outputId": "66647ab4-f7a8-4423-e376-f74b45d376b9"
      },
      "source": [
        "trainX = trainX.reshape(-1, 28,28, 1)\n",
        "testX = testX.reshape(-1, 28,28, 1)\n",
        "trainX.shape, testX.shape"
      ],
      "execution_count": 23,
      "outputs": [
        {
          "output_type": "execute_result",
          "data": {
            "text/plain": [
              "((60000, 28, 28, 1), (10000, 28, 28, 1))"
            ]
          },
          "metadata": {
            "tags": []
          },
          "execution_count": 23
        }
      ]
    },
    {
      "cell_type": "code",
      "metadata": {
        "id": "lgxeqwLpL5q0",
        "colab_type": "code",
        "colab": {}
      },
      "source": [
        "trainX = trainX.astype('float32')\n",
        "testX = testX.astype('float32')\n",
        "testX /= 255.0\n",
        "trainX /= 255.0"
      ],
      "execution_count": 0,
      "outputs": []
    },
    {
      "cell_type": "code",
      "metadata": {
        "id": "MPS2-zc_L5q3",
        "colab_type": "code",
        "colab": {
          "base_uri": "https://localhost:8080/",
          "height": 134
        },
        "outputId": "322f3fca-7b34-4e8b-b36e-d491e0aa6846"
      },
      "source": [
        "trainY = to_categorical(trainY)\n",
        "trainY"
      ],
      "execution_count": 25,
      "outputs": [
        {
          "output_type": "execute_result",
          "data": {
            "text/plain": [
              "array([[0., 0., 0., ..., 0., 0., 1.],\n",
              "       [1., 0., 0., ..., 0., 0., 0.],\n",
              "       [1., 0., 0., ..., 0., 0., 0.],\n",
              "       ...,\n",
              "       [0., 0., 0., ..., 0., 0., 0.],\n",
              "       [1., 0., 0., ..., 0., 0., 0.],\n",
              "       [0., 0., 0., ..., 0., 0., 0.]], dtype=float32)"
            ]
          },
          "metadata": {
            "tags": []
          },
          "execution_count": 25
        }
      ]
    },
    {
      "cell_type": "code",
      "metadata": {
        "id": "nc8dUSI5L5q6",
        "colab_type": "code",
        "colab": {
          "base_uri": "https://localhost:8080/",
          "height": 134
        },
        "outputId": "e74781ee-cbde-4d3b-c693-97c679ee0b58"
      },
      "source": [
        "testY = to_categorical(testY)\n",
        "testY"
      ],
      "execution_count": 26,
      "outputs": [
        {
          "output_type": "execute_result",
          "data": {
            "text/plain": [
              "array([[0., 0., 0., ..., 0., 0., 1.],\n",
              "       [0., 0., 1., ..., 0., 0., 0.],\n",
              "       [0., 1., 0., ..., 0., 0., 0.],\n",
              "       ...,\n",
              "       [0., 0., 0., ..., 0., 1., 0.],\n",
              "       [0., 1., 0., ..., 0., 0., 0.],\n",
              "       [0., 0., 0., ..., 0., 0., 0.]], dtype=float32)"
            ]
          },
          "metadata": {
            "tags": []
          },
          "execution_count": 26
        }
      ]
    },
    {
      "cell_type": "code",
      "metadata": {
        "id": "L1LpM5MlL5q-",
        "colab_type": "code",
        "colab": {}
      },
      "source": [
        "trainX,validX,trainY,validY = train_test_split(trainX, trainY, test_size=0.2, random_state=42)"
      ],
      "execution_count": 0,
      "outputs": []
    },
    {
      "cell_type": "code",
      "metadata": {
        "id": "avuOG2IGL5rC",
        "colab_type": "code",
        "colab": {
          "base_uri": "https://localhost:8080/",
          "height": 706
        },
        "outputId": "22d78231-8d12-42bb-d4f7-5054e6e41756"
      },
      "source": [
        "\n",
        "#train_x = train_x.reshape(1, 48000, 28, 28)\n",
        "# define vars\n",
        "input_reshape = (28, 28, 1)\n",
        "\n",
        "pool_size = (2, 2)\n",
        "\n",
        "hidden_num_units = 25\n",
        "output_num_units = 10\n",
        "\n",
        "epochs = 20\n",
        "batch_size = 64\n",
        "\n",
        "model = Sequential([\n",
        " Convolution2D(32, kernel_size = (3, 3) ,activation='relu',input_shape=(28,28,1)),\n",
        "    \n",
        " Convolution2D(64, 3, 3, activation='relu', name = 'Conv1'),\n",
        " MaxPooling2D(pool_size=pool_size, name = 'Pooling1'),\n",
        "\n",
        " Convolution2D(128, 3, 3, activation='relu', name = 'Conv2'),\n",
        " MaxPooling2D(pool_size=pool_size, name = 'Pooling2'),\n",
        " Dropout(0.4),\n",
        " Convolution2D(256, 3, 3, activation='relu', name = 'Conv3'),\n",
        "\n",
        " Flatten(),\n",
        "\n",
        " Dense(output_dim=hidden_num_units, activation='relu', name = 'Dense1'),\n",
        " Dropout(0.3),\n",
        " Dense(output_dim=hidden_num_units, activation='relu', name = 'Dense2'),\n",
        " Dropout(0.3), \n",
        " Dense(output_dim=output_num_units, activation='softmax', name = 'out'),\n",
        "])\n",
        "\n",
        "model.compile(loss='categorical_crossentropy', optimizer='adam', metrics=['accuracy'])\n",
        "model.summary()"
      ],
      "execution_count": 30,
      "outputs": [
        {
          "output_type": "stream",
          "text": [
            "/usr/local/lib/python3.6/dist-packages/ipykernel_launcher.py:14: UserWarning: Update your `Conv2D` call to the Keras 2 API: `Conv2D(64, (3, 3), activation=\"relu\", name=\"Conv1\")`\n",
            "  \n",
            "/usr/local/lib/python3.6/dist-packages/ipykernel_launcher.py:17: UserWarning: Update your `Conv2D` call to the Keras 2 API: `Conv2D(128, (3, 3), activation=\"relu\", name=\"Conv2\")`\n",
            "/usr/local/lib/python3.6/dist-packages/ipykernel_launcher.py:20: UserWarning: Update your `Conv2D` call to the Keras 2 API: `Conv2D(256, (3, 3), activation=\"relu\", name=\"Conv3\")`\n",
            "/usr/local/lib/python3.6/dist-packages/ipykernel_launcher.py:24: UserWarning: Update your `Dense` call to the Keras 2 API: `Dense(activation=\"relu\", name=\"Dense1\", units=25)`\n",
            "/usr/local/lib/python3.6/dist-packages/ipykernel_launcher.py:26: UserWarning: Update your `Dense` call to the Keras 2 API: `Dense(activation=\"relu\", name=\"Dense2\", units=25)`\n",
            "/usr/local/lib/python3.6/dist-packages/ipykernel_launcher.py:28: UserWarning: Update your `Dense` call to the Keras 2 API: `Dense(activation=\"softmax\", name=\"out\", units=10)`\n"
          ],
          "name": "stderr"
        },
        {
          "output_type": "stream",
          "text": [
            "_________________________________________________________________\n",
            "Layer (type)                 Output Shape              Param #   \n",
            "=================================================================\n",
            "conv2d_7 (Conv2D)            (None, 26, 26, 32)        320       \n",
            "_________________________________________________________________\n",
            "Conv1 (Conv2D)               (None, 24, 24, 64)        18496     \n",
            "_________________________________________________________________\n",
            "Pooling1 (MaxPooling2D)      (None, 12, 12, 64)        0         \n",
            "_________________________________________________________________\n",
            "Conv2 (Conv2D)               (None, 10, 10, 128)       73856     \n",
            "_________________________________________________________________\n",
            "Pooling2 (MaxPooling2D)      (None, 5, 5, 128)         0         \n",
            "_________________________________________________________________\n",
            "dropout_21 (Dropout)         (None, 5, 5, 128)         0         \n",
            "_________________________________________________________________\n",
            "Conv3 (Conv2D)               (None, 3, 3, 256)         295168    \n",
            "_________________________________________________________________\n",
            "flatten_6 (Flatten)          (None, 2304)              0         \n",
            "_________________________________________________________________\n",
            "Dense1 (Dense)               (None, 25)                57625     \n",
            "_________________________________________________________________\n",
            "dropout_22 (Dropout)         (None, 25)                0         \n",
            "_________________________________________________________________\n",
            "Dense2 (Dense)               (None, 25)                650       \n",
            "_________________________________________________________________\n",
            "dropout_23 (Dropout)         (None, 25)                0         \n",
            "_________________________________________________________________\n",
            "out (Dense)                  (None, 10)                260       \n",
            "=================================================================\n",
            "Total params: 446,375\n",
            "Trainable params: 446,375\n",
            "Non-trainable params: 0\n",
            "_________________________________________________________________\n"
          ],
          "name": "stdout"
        }
      ]
    },
    {
      "cell_type": "code",
      "metadata": {
        "id": "B3hOcgL8L5rH",
        "colab_type": "code",
        "colab": {
          "base_uri": "https://localhost:8080/",
          "height": 736
        },
        "outputId": "55b998e5-5066-441c-acea-9f8699475afe"
      },
      "source": [
        "trained_model_conv = model.fit(trainX, trainY, nb_epoch=epochs, batch_size = batch_size, validation_data=(validX, validY))"
      ],
      "execution_count": 31,
      "outputs": [
        {
          "output_type": "stream",
          "text": [
            "/usr/local/lib/python3.6/dist-packages/ipykernel_launcher.py:1: UserWarning: The `nb_epoch` argument in `fit` has been renamed `epochs`.\n",
            "  \"\"\"Entry point for launching an IPython kernel.\n"
          ],
          "name": "stderr"
        },
        {
          "output_type": "stream",
          "text": [
            "Train on 48000 samples, validate on 12000 samples\n",
            "Epoch 1/20\n",
            "48000/48000 [==============================] - 17s 364us/step - loss: 1.0684 - acc: 0.5952 - val_loss: 0.5139 - val_acc: 0.8071\n",
            "Epoch 2/20\n",
            "48000/48000 [==============================] - 16s 326us/step - loss: 0.6617 - acc: 0.7540 - val_loss: 0.4128 - val_acc: 0.8531\n",
            "Epoch 3/20\n",
            "48000/48000 [==============================] - 15s 315us/step - loss: 0.5692 - acc: 0.7968 - val_loss: 0.3699 - val_acc: 0.8742\n",
            "Epoch 4/20\n",
            "48000/48000 [==============================] - 15s 309us/step - loss: 0.4995 - acc: 0.8220 - val_loss: 0.3294 - val_acc: 0.8905\n",
            "Epoch 5/20\n",
            "48000/48000 [==============================] - 15s 310us/step - loss: 0.4534 - acc: 0.8392 - val_loss: 0.3230 - val_acc: 0.8895\n",
            "Epoch 6/20\n",
            "48000/48000 [==============================] - 15s 309us/step - loss: 0.4222 - acc: 0.8528 - val_loss: 0.2994 - val_acc: 0.8994\n",
            "Epoch 7/20\n",
            "48000/48000 [==============================] - 15s 310us/step - loss: 0.4063 - acc: 0.8618 - val_loss: 0.2838 - val_acc: 0.9036\n",
            "Epoch 8/20\n",
            "48000/48000 [==============================] - 15s 308us/step - loss: 0.3790 - acc: 0.8737 - val_loss: 0.2768 - val_acc: 0.9086\n",
            "Epoch 9/20\n",
            "48000/48000 [==============================] - 15s 310us/step - loss: 0.3587 - acc: 0.8785 - val_loss: 0.2616 - val_acc: 0.9113\n",
            "Epoch 10/20\n",
            "48000/48000 [==============================] - 15s 306us/step - loss: 0.3507 - acc: 0.8836 - val_loss: 0.2675 - val_acc: 0.9085\n",
            "Epoch 11/20\n",
            "48000/48000 [==============================] - 15s 306us/step - loss: 0.3380 - acc: 0.8858 - val_loss: 0.2671 - val_acc: 0.9129\n",
            "Epoch 12/20\n",
            "48000/48000 [==============================] - 15s 307us/step - loss: 0.3264 - acc: 0.8908 - val_loss: 0.2509 - val_acc: 0.9175\n",
            "Epoch 13/20\n",
            "48000/48000 [==============================] - 15s 306us/step - loss: 0.3179 - acc: 0.8925 - val_loss: 0.2521 - val_acc: 0.9180\n",
            "Epoch 14/20\n",
            "48000/48000 [==============================] - 15s 306us/step - loss: 0.3061 - acc: 0.8974 - val_loss: 0.2506 - val_acc: 0.9163\n",
            "Epoch 15/20\n",
            "48000/48000 [==============================] - 15s 306us/step - loss: 0.3008 - acc: 0.8984 - val_loss: 0.2466 - val_acc: 0.9177\n",
            "Epoch 16/20\n",
            "48000/48000 [==============================] - 15s 303us/step - loss: 0.2928 - acc: 0.9018 - val_loss: 0.2473 - val_acc: 0.9163\n",
            "Epoch 17/20\n",
            "48000/48000 [==============================] - 15s 303us/step - loss: 0.2861 - acc: 0.9023 - val_loss: 0.2628 - val_acc: 0.9124\n",
            "Epoch 18/20\n",
            "48000/48000 [==============================] - 15s 304us/step - loss: 0.2783 - acc: 0.9065 - val_loss: 0.2465 - val_acc: 0.9166\n",
            "Epoch 19/20\n",
            "48000/48000 [==============================] - 15s 304us/step - loss: 0.2716 - acc: 0.9088 - val_loss: 0.2442 - val_acc: 0.9192\n",
            "Epoch 20/20\n",
            "48000/48000 [==============================] - 15s 304us/step - loss: 0.2634 - acc: 0.9115 - val_loss: 0.2541 - val_acc: 0.9149\n"
          ],
          "name": "stdout"
        }
      ]
    },
    {
      "cell_type": "code",
      "metadata": {
        "id": "KCnGCP_kL5rL",
        "colab_type": "code",
        "colab": {
          "base_uri": "https://localhost:8080/",
          "height": 572
        },
        "outputId": "dc7794f9-9872-4ce1-bf94-391ae35dc880"
      },
      "source": [
        "# summarize history for accuracy\n",
        "plt.plot(trained_model_conv.history['acc'])\n",
        "plt.plot(trained_model_conv.history['val_acc'])\n",
        "plt.title('model accuracy')\n",
        "plt.ylabel('accuracy')\n",
        "plt.xlabel('epoch')\n",
        "plt.legend(['train', 'test'], loc='upper left')\n",
        "plt.show()\n",
        "# summarize history for loss\n",
        "plt.plot(trained_model_conv.history['loss'])\n",
        "plt.plot(trained_model_conv.history['val_loss'])\n",
        "plt.title('model loss')\n",
        "plt.ylabel('loss')\n",
        "plt.xlabel('epoch')\n",
        "plt.legend(['train', 'test'], loc='upper left')\n",
        "plt.show()"
      ],
      "execution_count": 32,
      "outputs": [
        {
          "output_type": "display_data",
          "data": {
            "image/png": "[encoded data removed]",
            "text/plain": [
              "<Figure size 432x288 with 1 Axes>"
            ]
          },
          "metadata": {
            "tags": []
          }
        },
        {
          "output_type": "display_data",
          "data": {
            "image/png": "[encoded data removed]",
            "text/plain": [
              "<Figure size 432x288 with 1 Axes>"
            ]
          },
          "metadata": {
            "tags": []
          }
        }
      ]
    }
  ]
}