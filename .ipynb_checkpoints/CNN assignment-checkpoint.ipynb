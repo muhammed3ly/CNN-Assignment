{
 "cells": [
  {
   "cell_type": "code",
   "execution_count": 1,
   "metadata": {},
   "outputs": [
    {
     "name": "stdout",
     "output_type": "stream",
     "text": [
      "Populating the interactive namespace from numpy and matplotlib\n"
     ]
    },
    {
     "name": "stderr",
     "output_type": "stream",
     "text": [
      "Using TensorFlow backend.\n"
     ]
    }
   ],
   "source": [
    "%pylab inline\n",
    "import os\n",
    "import numpy as np\n",
    "import pandas as pd\n",
    "import h5py\n",
    "from scipy.misc import imread\n",
    "from sklearn.metrics import accuracy_score\n",
    "import tensorflow as tf\n",
    "import keras\n",
    "from keras.models import Sequential\n",
    "from keras.layers import Dense, Activation, Dropout, Convolution2D, Flatten, MaxPooling2D, Reshape, InputLayer, AveragePooling2D\n",
    "random.seed(10)"
   ]
  },
  {
   "cell_type": "code",
   "execution_count": 2,
   "metadata": {},
   "outputs": [],
   "source": [
    "def load_dataset():\n",
    "    train_dataset = h5py.File('datasets/train_catvnoncat.h5', \"r\")\n",
    "    train_set_x_orig = np.array(train_dataset[\"train_set_x\"][:]) # your train set features\n",
    "    train_set_y_orig = np.array(train_dataset[\"train_set_y\"][:]) # your train set labels\n",
    "\n",
    "    test_dataset = h5py.File('datasets/test_catvnoncat.h5', \"r\")\n",
    "    test_set_x_orig = np.array(test_dataset[\"test_set_x\"][:]) # your test set features\n",
    "    test_set_y_orig = np.array(test_dataset[\"test_set_y\"][:]) # your test set labels\n",
    "\n",
    "    classes = np.array(test_dataset[\"list_classes\"][:]) # the list of classes\n",
    "    \n",
    "    train_set_y_orig = train_set_y_orig.reshape((1, train_set_y_orig.shape[0]))\n",
    "    test_set_y_orig = test_set_y_orig.reshape((1, test_set_y_orig.shape[0]))\n",
    "    \n",
    "    return train_set_x_orig, train_set_y_orig, test_set_x_orig, test_set_y_orig, classes"
   ]
  },
  {
   "cell_type": "code",
   "execution_count": 3,
   "metadata": {},
   "outputs": [],
   "source": [
    "train_set_x_orig, train_set_y, test_set_x_orig, test_set_y, classes = load_dataset()"
   ]
  },
  {
   "cell_type": "code",
   "execution_count": 4,
   "metadata": {},
   "outputs": [
    {
     "name": "stdout",
     "output_type": "stream",
     "text": [
      "y = [1], it's a 'cat' picture.\n"
     ]
    },
    {
     "data": {
      "image/png": "[encoded data removed]",
      "text/plain": [
       "<Figure size 432x288 with 1 Axes>"
      ]
     },
     "metadata": {
      "needs_background": "light"
     },
     "output_type": "display_data"
    }
   ],
   "source": [
    "# Example of a picture\n",
    "index = 2\n",
    "plt.imshow(train_set_x_orig[index])\n",
    "print (\"y = \" + str(train_set_y[:, index]) + \", it's a '\" + classes[np.squeeze(train_set_y[:, index])].decode(\"utf-8\") +  \"' picture.\")"
   ]
  },
  {
   "cell_type": "code",
   "execution_count": 5,
   "metadata": {},
   "outputs": [
    {
     "data": {
      "text/plain": [
       "(209, 64, 64, 3)"
      ]
     },
     "execution_count": 5,
     "metadata": {},
     "output_type": "execute_result"
    }
   ],
   "source": [
    "train_set_x_orig.shape"
   ]
  },
  {
   "cell_type": "code",
   "execution_count": 6,
   "metadata": {},
   "outputs": [],
   "source": [
    "train_x = np.stack(train_set_x_orig)"
   ]
  },
  {
   "cell_type": "code",
   "execution_count": 7,
   "metadata": {},
   "outputs": [
    {
     "data": {
      "text/plain": [
       "(209, 64, 64, 3)"
      ]
     },
     "execution_count": 7,
     "metadata": {},
     "output_type": "execute_result"
    }
   ],
   "source": [
    "train_x.shape"
   ]
  },
  {
   "cell_type": "code",
   "execution_count": 8,
   "metadata": {},
   "outputs": [],
   "source": [
    "train_x = train_x / 255.0\n",
    "train_x = train_x.reshape(-1, 4096,3).astype('float32')"
   ]
  },
  {
   "cell_type": "code",
   "execution_count": 9,
   "metadata": {},
   "outputs": [
    {
     "data": {
      "text/plain": [
       "(209, 4096, 3)"
      ]
     },
     "execution_count": 9,
     "metadata": {},
     "output_type": "execute_result"
    }
   ],
   "source": [
    "train_x.shape"
   ]
  },
  {
   "cell_type": "code",
   "execution_count": 10,
   "metadata": {},
   "outputs": [
    {
     "data": {
      "text/plain": [
       "(50, 64, 64, 3)"
      ]
     },
     "execution_count": 10,
     "metadata": {},
     "output_type": "execute_result"
    }
   ],
   "source": [
    "test_set_x_orig.shape"
   ]
  },
  {
   "cell_type": "code",
   "execution_count": 11,
   "metadata": {},
   "outputs": [],
   "source": [
    "test_x = np.stack(test_set_x_orig)"
   ]
  },
  {
   "cell_type": "code",
   "execution_count": 12,
   "metadata": {},
   "outputs": [],
   "source": [
    "test_x = test_x / 255.0\n",
    "test_x = test_x.reshape(-1, 4096,3).astype('float32')"
   ]
  },
  {
   "cell_type": "code",
   "execution_count": 13,
   "metadata": {},
   "outputs": [],
   "source": [
    "train_y = keras.utils.np_utils.to_categorical(train_set_y)"
   ]
  },
  {
   "cell_type": "code",
   "execution_count": 14,
   "metadata": {},
   "outputs": [],
   "source": [
    "train_y = train_y.reshape(209, 2)"
   ]
  },
  {
   "cell_type": "code",
   "execution_count": 15,
   "metadata": {},
   "outputs": [],
   "source": [
    "split_size = int(train_x.shape[0]*0.7)"
   ]
  },
  {
   "cell_type": "code",
   "execution_count": 16,
   "metadata": {},
   "outputs": [],
   "source": [
    "train_x, val_x = train_x[:split_size], train_x[split_size:]\n",
    "train_y, val_y = train_y[:split_size], train_y[split_size:]"
   ]
  },
  {
   "cell_type": "code",
   "execution_count": 17,
   "metadata": {},
   "outputs": [
    {
     "name": "stderr",
     "output_type": "stream",
     "text": [
      "WARNING: Logging before flag parsing goes to stderr.\n",
      "W0722 14:03:57.713383  4680 deprecation_wrapper.py:119] From C:\\ProgramData\\Anaconda3\\lib\\site-packages\\keras\\backend\\tensorflow_backend.py:74: The name tf.get_default_graph is deprecated. Please use tf.compat.v1.get_default_graph instead.\n",
      "\n",
      "W0722 14:03:57.735296  4680 deprecation_wrapper.py:119] From C:\\ProgramData\\Anaconda3\\lib\\site-packages\\keras\\backend\\tensorflow_backend.py:517: The name tf.placeholder is deprecated. Please use tf.compat.v1.placeholder instead.\n",
      "\n",
      "C:\\ProgramData\\Anaconda3\\lib\\site-packages\\ipykernel_launcher.py:22: UserWarning: Update your `Conv2D` call to the Keras 2 API: `Conv2D(25, (5, 5), activation=\"relu\", name=\"Conv1\")`\n",
      "C:\\ProgramData\\Anaconda3\\lib\\site-packages\\ipykernel_launcher.py:25: UserWarning: Update your `Conv2D` call to the Keras 2 API: `Conv2D(25, (5, 5), activation=\"relu\", name=\"Conv2\")`\n",
      "C:\\ProgramData\\Anaconda3\\lib\\site-packages\\ipykernel_launcher.py:28: UserWarning: Update your `Conv2D` call to the Keras 2 API: `Conv2D(25, (4, 4), activation=\"relu\", name=\"Conv3\")`\n",
      "C:\\ProgramData\\Anaconda3\\lib\\site-packages\\ipykernel_launcher.py:31: UserWarning: Update your `Conv2D` call to the Keras 2 API: `Conv2D(25, (4, 4), activation=\"relu\", name=\"Conv4\")`\n",
      "C:\\ProgramData\\Anaconda3\\lib\\site-packages\\ipykernel_launcher.py:37: UserWarning: Update your `Dense` call to the Keras 2 API: `Dense(activation=\"relu\", name=\"Dense1\", units=25)`\n",
      "C:\\ProgramData\\Anaconda3\\lib\\site-packages\\ipykernel_launcher.py:38: UserWarning: Update your `Dense` call to the Keras 2 API: `Dense(activation=\"softmax\", name=\"out\", units=2)`\n",
      "W0722 14:03:57.742309  4680 deprecation_wrapper.py:119] From C:\\ProgramData\\Anaconda3\\lib\\site-packages\\keras\\backend\\tensorflow_backend.py:4138: The name tf.random_uniform is deprecated. Please use tf.random.uniform instead.\n",
      "\n",
      "W0722 14:03:57.759230  4680 deprecation_wrapper.py:119] From C:\\ProgramData\\Anaconda3\\lib\\site-packages\\keras\\backend\\tensorflow_backend.py:3976: The name tf.nn.max_pool is deprecated. Please use tf.nn.max_pool2d instead.\n",
      "\n",
      "W0722 14:03:57.884893  4680 deprecation_wrapper.py:119] From C:\\ProgramData\\Anaconda3\\lib\\site-packages\\keras\\optimizers.py:790: The name tf.train.Optimizer is deprecated. Please use tf.compat.v1.train.Optimizer instead.\n",
      "\n",
      "W0722 14:03:57.904841  4680 deprecation_wrapper.py:119] From C:\\ProgramData\\Anaconda3\\lib\\site-packages\\keras\\backend\\tensorflow_backend.py:3295: The name tf.log is deprecated. Please use tf.math.log instead.\n",
      "\n"
     ]
    },
    {
     "name": "stdout",
     "output_type": "stream",
     "text": [
      "_________________________________________________________________\n",
      "Layer (type)                 Output Shape              Param #   \n",
      "=================================================================\n",
      "Conv1 (Conv2D)               (None, 60, 60, 25)        1900      \n",
      "_________________________________________________________________\n",
      "Pooling1 (MaxPooling2D)      (None, 30, 30, 25)        0         \n",
      "_________________________________________________________________\n",
      "Conv2 (Conv2D)               (None, 26, 26, 25)        15650     \n",
      "_________________________________________________________________\n",
      "Pooling2 (MaxPooling2D)      (None, 13, 13, 25)        0         \n",
      "_________________________________________________________________\n",
      "Conv3 (Conv2D)               (None, 10, 10, 25)        10025     \n",
      "_________________________________________________________________\n",
      "Pooling3 (MaxPooling2D)      (None, 5, 5, 25)          0         \n",
      "_________________________________________________________________\n",
      "Conv4 (Conv2D)               (None, 2, 2, 25)          10025     \n",
      "_________________________________________________________________\n",
      "Pooling4 (MaxPooling2D)      (None, 1, 1, 25)          0         \n",
      "_________________________________________________________________\n",
      "flatten_1 (Flatten)          (None, 25)                0         \n",
      "_________________________________________________________________\n",
      "Dense1 (Dense)               (None, 25)                650       \n",
      "_________________________________________________________________\n",
      "out (Dense)                  (None, 2)                 52        \n",
      "=================================================================\n",
      "Total params: 38,302\n",
      "Trainable params: 38,302\n",
      "Non-trainable params: 0\n",
      "_________________________________________________________________\n"
     ]
    }
   ],
   "source": [
    "train_x_temp = train_x.reshape(-1, 64, 64, 3)\n",
    "val_x_temp = val_x.reshape(-1, 64, 64, 3)\n",
    "\n",
    "# define vars\n",
    "input_shape = (4096,)\n",
    "input_reshape = (64, 64, 3)\n",
    "\n",
    "# conv_num_filters = 5\n",
    "# conv_filter_size = 5\n",
    "\n",
    "pool_size = (2, 2)\n",
    "\n",
    "hidden_num_units = 25\n",
    "output_num_units = 2\n",
    "\n",
    "epochs = 15\n",
    "batch_size = 1\n",
    "\n",
    "model = Sequential([\n",
    " InputLayer(input_shape=input_reshape),\n",
    "\n",
    " Convolution2D(25, 5, 5, activation='relu', name = 'Conv1'),\n",
    " MaxPooling2D(pool_size=pool_size, name = 'Pooling1'),\n",
    "\n",
    " Convolution2D(25, 5, 5, activation='relu', name = 'Conv2'),\n",
    " MaxPooling2D(pool_size=pool_size, name = 'Pooling2'),\n",
    "\n",
    " Convolution2D(25, 4, 4, activation='relu', name = 'Conv3'),\n",
    " MaxPooling2D(pool_size=pool_size, name = 'Pooling3'),\n",
    "    \n",
    " Convolution2D(25, 4, 4, activation='relu', name = 'Conv4'),\n",
    " MaxPooling2D(pool_size=pool_size, name = 'Pooling4'),\n",
    "\n",
    "\n",
    " Flatten(),\n",
    "\n",
    " Dense(output_dim=hidden_num_units, activation='relu', name = 'Dense1'),\n",
    " Dense(output_dim=output_num_units, activation='softmax', name = 'out'),\n",
    "])\n",
    "\n",
    "model.compile(loss='categorical_crossentropy', optimizer='adam', metrics=['accuracy'])\n",
    "model.summary()"
   ]
  },
  {
   "cell_type": "code",
   "execution_count": 18,
   "metadata": {},
   "outputs": [
    {
     "name": "stderr",
     "output_type": "stream",
     "text": [
      "C:\\ProgramData\\Anaconda3\\lib\\site-packages\\ipykernel_launcher.py:1: UserWarning: The `nb_epoch` argument in `fit` has been renamed `epochs`.\n",
      "  \"\"\"Entry point for launching an IPython kernel.\n",
      "W0722 14:03:58.012586  4680 deprecation.py:323] From C:\\ProgramData\\Anaconda3\\lib\\site-packages\\tensorflow\\python\\ops\\math_grad.py:1250: add_dispatch_support.<locals>.wrapper (from tensorflow.python.ops.array_ops) is deprecated and will be removed in a future version.\n",
      "Instructions for updating:\n",
      "Use tf.where in 2.0, which has the same broadcast rule as np.where\n",
      "W0722 14:03:58.077378  4680 deprecation_wrapper.py:119] From C:\\ProgramData\\Anaconda3\\lib\\site-packages\\keras\\backend\\tensorflow_backend.py:986: The name tf.assign_add is deprecated. Please use tf.compat.v1.assign_add instead.\n",
      "\n"
     ]
    },
    {
     "name": "stdout",
     "output_type": "stream",
     "text": [
      "Train on 146 samples, validate on 63 samples\n",
      "Epoch 1/15\n",
      "146/146 [==============================] - 1s 7ms/step - loss: 0.6807 - acc: 0.5616 - val_loss: 0.6295 - val_acc: 0.6825\n",
      "Epoch 2/15\n",
      "146/146 [==============================] - 1s 4ms/step - loss: 0.6380 - acc: 0.6438 - val_loss: 0.6133 - val_acc: 0.6825\n",
      "Epoch 3/15\n",
      "146/146 [==============================] - 1s 4ms/step - loss: 0.6395 - acc: 0.6438 - val_loss: 0.6095 - val_acc: 0.6825\n",
      "Epoch 4/15\n",
      "146/146 [==============================] - 1s 4ms/step - loss: 0.6124 - acc: 0.6438 - val_loss: 0.5770 - val_acc: 0.6825\n",
      "Epoch 5/15\n",
      "146/146 [==============================] - 1s 4ms/step - loss: 0.5808 - acc: 0.6438 - val_loss: 0.5520 - val_acc: 0.6825\n",
      "Epoch 6/15\n",
      "146/146 [==============================] - 1s 4ms/step - loss: 0.5548 - acc: 0.6438 - val_loss: 0.5159 - val_acc: 0.6825\n",
      "Epoch 7/15\n",
      "146/146 [==============================] - 1s 4ms/step - loss: 0.5261 - acc: 0.6438 - val_loss: 0.4873 - val_acc: 0.6825\n",
      "Epoch 8/15\n",
      "146/146 [==============================] - 1s 4ms/step - loss: 0.5110 - acc: 0.6781 - val_loss: 0.5131 - val_acc: 0.7937\n",
      "Epoch 9/15\n",
      "146/146 [==============================] - 1s 4ms/step - loss: 0.5135 - acc: 0.7877 - val_loss: 0.5254 - val_acc: 0.6825\n",
      "Epoch 10/15\n",
      "146/146 [==============================] - 1s 4ms/step - loss: 0.4982 - acc: 0.6918 - val_loss: 0.4830 - val_acc: 0.8254\n",
      "Epoch 11/15\n",
      "146/146 [==============================] - 1s 4ms/step - loss: 0.4782 - acc: 0.7945 - val_loss: 0.4491 - val_acc: 0.7302\n",
      "Epoch 12/15\n",
      "146/146 [==============================] - 1s 4ms/step - loss: 0.4389 - acc: 0.7397 - val_loss: 0.4515 - val_acc: 0.8254\n",
      "Epoch 13/15\n",
      "146/146 [==============================] - 1s 4ms/step - loss: 0.4691 - acc: 0.8082 - val_loss: 0.3833 - val_acc: 0.8254\n",
      "Epoch 14/15\n",
      "146/146 [==============================] - 1s 4ms/step - loss: 0.4491 - acc: 0.7055 - val_loss: 0.3995 - val_acc: 0.8254\n",
      "Epoch 15/15\n",
      "146/146 [==============================] - 1s 4ms/step - loss: 0.4143 - acc: 0.8288 - val_loss: 0.4330 - val_acc: 0.7778\n"
     ]
    }
   ],
   "source": [
    "trained_model_conv = model.fit(train_x_temp, train_y, nb_epoch=epochs, validation_data=(val_x_temp, val_y))"
   ]
  },
  {
   "cell_type": "code",
   "execution_count": 19,
   "metadata": {},
   "outputs": [
    {
     "data": {
      "image/png": "[encoded data removed]",
      "text/plain": [
       "<Figure size 432x288 with 1 Axes>"
      ]
     },
     "metadata": {
      "needs_background": "light"
     },
     "output_type": "display_data"
    },
    {
     "data": {
      "image/png": "[encoded data removed]",
      "text/plain": [
       "<Figure size 432x288 with 1 Axes>"
      ]
     },
     "metadata": {
      "needs_background": "light"
     },
     "output_type": "display_data"
    }
   ],
   "source": [
    "# summarize history for accuracy\n",
    "plt.plot(trained_model_conv.history['acc'])\n",
    "plt.plot(trained_model_conv.history['val_acc'])\n",
    "plt.title('model accuracy')\n",
    "plt.ylabel('accuracy')\n",
    "plt.xlabel('epoch')\n",
    "plt.legend(['train', 'test'], loc='upper left')\n",
    "plt.show()\n",
    "# summarize history for loss\n",
    "plt.plot(trained_model_conv.history['loss'])\n",
    "plt.plot(trained_model_conv.history['val_loss'])\n",
    "plt.title('model loss')\n",
    "plt.ylabel('loss')\n",
    "plt.xlabel('epoch')\n",
    "plt.legend(['train', 'test'], loc='upper left')\n",
    "plt.show()"
   ]
  }
 ],
 "metadata": {
  "kernelspec": {
   "display_name": "Python 3",
   "language": "python",
   "name": "python3"
  },
  "language_info": {
   "codemirror_mode": {
    "name": "ipython",
    "version": 3
   },
   "file_extension": ".py",
   "mimetype": "text/x-python",
   "name": "python",
   "nbconvert_exporter": "python",
   "pygments_lexer": "ipython3",
   "version": "3.7.3"
  }
 },
 "nbformat": 4,
 "nbformat_minor": 2
}
