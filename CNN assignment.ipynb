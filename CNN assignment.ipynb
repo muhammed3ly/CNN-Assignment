{
 "cells": [
  {
   "cell_type": "code",
   "execution_count": 1,
   "metadata": {},
   "outputs": [
    {
     "name": "stdout",
     "output_type": "stream",
     "text": [
      "Populating the interactive namespace from numpy and matplotlib\n"
     ]
    },
    {
     "name": "stderr",
     "output_type": "stream",
     "text": [
      "Using TensorFlow backend.\n"
     ]
    }
   ],
   "source": [
    "%pylab inline\n",
    "import os\n",
    "import numpy as np\n",
    "import pandas as pd\n",
    "import h5py\n",
    "from scipy.misc import imread\n",
    "from sklearn.metrics import accuracy_score\n",
    "import tensorflow as tf\n",
    "import keras\n",
    "from keras.models import Sequential\n",
    "from keras.callbacks import EarlyStopping\n",
    "from keras.layers import Dense, Activation, Dropout, Convolution2D, Flatten, MaxPooling2D, Reshape, InputLayer, AveragePooling2D\n",
    "random.seed(10)"
   ]
  },
  {
   "cell_type": "code",
   "execution_count": 2,
   "metadata": {},
   "outputs": [],
   "source": [
    "def load_dataset():\n",
    "    train_dataset = h5py.File('datasets/train_catvnoncat.h5', \"r\")\n",
    "    train_set_x_orig = np.array(train_dataset[\"train_set_x\"][:]) # your train set features\n",
    "    train_set_y_orig = np.array(train_dataset[\"train_set_y\"][:]) # your train set labels\n",
    "\n",
    "    test_dataset = h5py.File('datasets/test_catvnoncat.h5', \"r\")\n",
    "    test_set_x_orig = np.array(test_dataset[\"test_set_x\"][:]) # your test set features\n",
    "    test_set_y_orig = np.array(test_dataset[\"test_set_y\"][:]) # your test set labels\n",
    "\n",
    "    classes = np.array(test_dataset[\"list_classes\"][:]) # the list of classes\n",
    "    \n",
    "    train_set_y_orig = train_set_y_orig.reshape((1, train_set_y_orig.shape[0]))\n",
    "    test_set_y_orig = test_set_y_orig.reshape((1, test_set_y_orig.shape[0]))\n",
    "    \n",
    "    return train_set_x_orig, train_set_y_orig, test_set_x_orig, test_set_y_orig, classes"
   ]
  },
  {
   "cell_type": "code",
   "execution_count": 3,
   "metadata": {},
   "outputs": [],
   "source": [
    "train_set_x_orig, train_set_y, test_set_x_orig, test_set_y, classes = load_dataset()"
   ]
  },
  {
   "cell_type": "code",
   "execution_count": 4,
   "metadata": {},
   "outputs": [
    {
     "name": "stdout",
     "output_type": "stream",
     "text": [
      "y = [1], it's a 'cat' picture.\n"
     ]
    },
    {
     "data": {
      "image/png": "[encoded data removed]",
      "text/plain": [
       "<Figure size 432x288 with 1 Axes>"
      ]
     },
     "metadata": {
      "needs_background": "light"
     },
     "output_type": "display_data"
    }
   ],
   "source": [
    "# Example of a picture\n",
    "index = 2\n",
    "plt.imshow(train_set_x_orig[index])\n",
    "print (\"y = \" + str(train_set_y[:, index]) + \", it's a '\" + classes[np.squeeze(train_set_y[:, index])].decode(\"utf-8\") +  \"' picture.\")"
   ]
  },
  {
   "cell_type": "code",
   "execution_count": 5,
   "metadata": {},
   "outputs": [
    {
     "data": {
      "text/plain": [
       "(209, 64, 64, 3)"
      ]
     },
     "execution_count": 5,
     "metadata": {},
     "output_type": "execute_result"
    }
   ],
   "source": [
    "train_set_x_orig.shape"
   ]
  },
  {
   "cell_type": "code",
   "execution_count": 6,
   "metadata": {},
   "outputs": [],
   "source": [
    "train_x = np.stack(train_set_x_orig)"
   ]
  },
  {
   "cell_type": "code",
   "execution_count": 7,
   "metadata": {},
   "outputs": [
    {
     "data": {
      "text/plain": [
       "(209, 64, 64, 3)"
      ]
     },
     "execution_count": 7,
     "metadata": {},
     "output_type": "execute_result"
    }
   ],
   "source": [
    "train_x.shape"
   ]
  },
  {
   "cell_type": "code",
   "execution_count": 8,
   "metadata": {},
   "outputs": [],
   "source": [
    "train_x = train_x / 255.0\n",
    "train_x = train_x.reshape(-1, 4096,3).astype('float32')"
   ]
  },
  {
   "cell_type": "code",
   "execution_count": 9,
   "metadata": {},
   "outputs": [
    {
     "data": {
      "text/plain": [
       "(209, 4096, 3)"
      ]
     },
     "execution_count": 9,
     "metadata": {},
     "output_type": "execute_result"
    }
   ],
   "source": [
    "train_x.shape"
   ]
  },
  {
   "cell_type": "code",
   "execution_count": 10,
   "metadata": {},
   "outputs": [
    {
     "data": {
      "text/plain": [
       "(50, 64, 64, 3)"
      ]
     },
     "execution_count": 10,
     "metadata": {},
     "output_type": "execute_result"
    }
   ],
   "source": [
    "test_set_x_orig.shape"
   ]
  },
  {
   "cell_type": "code",
   "execution_count": 11,
   "metadata": {},
   "outputs": [],
   "source": [
    "test_x = np.stack(test_set_x_orig)"
   ]
  },
  {
   "cell_type": "code",
   "execution_count": 12,
   "metadata": {},
   "outputs": [],
   "source": [
    "test_x = test_x / 255.0\n",
    "test_x = test_x.reshape(-1, 4096,3).astype('float32')"
   ]
  },
  {
   "cell_type": "code",
   "execution_count": 13,
   "metadata": {},
   "outputs": [],
   "source": [
    "train_y = keras.utils.np_utils.to_categorical(train_set_y)"
   ]
  },
  {
   "cell_type": "code",
   "execution_count": 14,
   "metadata": {},
   "outputs": [],
   "source": [
    "train_y = train_y.reshape(209, 2)"
   ]
  },
  {
   "cell_type": "code",
   "execution_count": 15,
   "metadata": {},
   "outputs": [],
   "source": [
    "split_size = int(train_x.shape[0]*0.7)"
   ]
  },
  {
   "cell_type": "code",
   "execution_count": 16,
   "metadata": {},
   "outputs": [],
   "source": [
    "train_x, val_x = train_x[:split_size], train_x[split_size:]\n",
    "train_y, val_y = train_y[:split_size], train_y[split_size:]"
   ]
  },
  {
   "cell_type": "code",
   "execution_count": 25,
   "metadata": {},
   "outputs": [
    {
     "name": "stderr",
     "output_type": "stream",
     "text": [
      "C:\\ProgramData\\Anaconda3\\lib\\site-packages\\ipykernel_launcher.py:22: UserWarning: Update your `Conv2D` call to the Keras 2 API: `Conv2D(25, (5, 5), activation=\"relu\", name=\"Conv1\")`\n",
      "C:\\ProgramData\\Anaconda3\\lib\\site-packages\\ipykernel_launcher.py:25: UserWarning: Update your `Conv2D` call to the Keras 2 API: `Conv2D(25, (5, 5), activation=\"relu\", name=\"Conv2\")`\n",
      "C:\\ProgramData\\Anaconda3\\lib\\site-packages\\ipykernel_launcher.py:28: UserWarning: Update your `Conv2D` call to the Keras 2 API: `Conv2D(25, (4, 4), activation=\"relu\", name=\"Conv3\")`\n",
      "C:\\ProgramData\\Anaconda3\\lib\\site-packages\\ipykernel_launcher.py:31: UserWarning: Update your `Conv2D` call to the Keras 2 API: `Conv2D(25, (4, 4), activation=\"relu\", name=\"Conv4\")`\n",
      "C:\\ProgramData\\Anaconda3\\lib\\site-packages\\ipykernel_launcher.py:37: UserWarning: Update your `Dense` call to the Keras 2 API: `Dense(activation=\"relu\", name=\"Dense1\", units=25)`\n",
      "C:\\ProgramData\\Anaconda3\\lib\\site-packages\\ipykernel_launcher.py:39: UserWarning: Update your `Dense` call to the Keras 2 API: `Dense(activation=\"softmax\", name=\"out\", units=2)`\n",
      "W0722 14:31:02.011959 11204 deprecation.py:506] From C:\\ProgramData\\Anaconda3\\lib\\site-packages\\keras\\backend\\tensorflow_backend.py:3445: calling dropout (from tensorflow.python.ops.nn_ops) with keep_prob is deprecated and will be removed in a future version.\n",
      "Instructions for updating:\n",
      "Please use `rate` instead of `keep_prob`. Rate should be set to `rate = 1 - keep_prob`.\n"
     ]
    },
    {
     "name": "stdout",
     "output_type": "stream",
     "text": [
      "_________________________________________________________________\n",
      "Layer (type)                 Output Shape              Param #   \n",
      "=================================================================\n",
      "Conv1 (Conv2D)               (None, 60, 60, 25)        1900      \n",
      "_________________________________________________________________\n",
      "Pooling1 (MaxPooling2D)      (None, 30, 30, 25)        0         \n",
      "_________________________________________________________________\n",
      "Conv2 (Conv2D)               (None, 26, 26, 25)        15650     \n",
      "_________________________________________________________________\n",
      "Pooling2 (MaxPooling2D)      (None, 13, 13, 25)        0         \n",
      "_________________________________________________________________\n",
      "Conv3 (Conv2D)               (None, 10, 10, 25)        10025     \n",
      "_________________________________________________________________\n",
      "Pooling3 (MaxPooling2D)      (None, 5, 5, 25)          0         \n",
      "_________________________________________________________________\n",
      "Conv4 (Conv2D)               (None, 2, 2, 25)          10025     \n",
      "_________________________________________________________________\n",
      "Pooling4 (MaxPooling2D)      (None, 1, 1, 25)          0         \n",
      "_________________________________________________________________\n",
      "flatten_2 (Flatten)          (None, 25)                0         \n",
      "_________________________________________________________________\n",
      "Dense1 (Dense)               (None, 25)                650       \n",
      "_________________________________________________________________\n",
      "dropout_1 (Dropout)          (None, 25)                0         \n",
      "_________________________________________________________________\n",
      "out (Dense)                  (None, 2)                 52        \n",
      "=================================================================\n",
      "Total params: 38,302\n",
      "Trainable params: 38,302\n",
      "Non-trainable params: 0\n",
      "_________________________________________________________________\n"
     ]
    }
   ],
   "source": [
    "train_x_temp = train_x.reshape(-1, 64, 64, 3)\n",
    "val_x_temp = val_x.reshape(-1, 64, 64, 3)\n",
    "\n",
    "# define vars\n",
    "input_shape = (4096,)\n",
    "input_reshape = (64, 64, 3)\n",
    "\n",
    "# conv_num_filters = 5\n",
    "# conv_filter_size = 5\n",
    "\n",
    "pool_size = (2, 2)\n",
    "\n",
    "hidden_num_units = 25\n",
    "output_num_units = 2\n",
    "\n",
    "epochs = 50\n",
    "batch_size = 1\n",
    "\n",
    "model = Sequential([\n",
    " InputLayer(input_shape=input_reshape),\n",
    "\n",
    " Convolution2D(25, 5, 5, activation='relu', name = 'Conv1'),\n",
    " MaxPooling2D(pool_size=pool_size, name = 'Pooling1'),\n",
    "\n",
    " Convolution2D(25, 5, 5, activation='relu', name = 'Conv2'),\n",
    " MaxPooling2D(pool_size=pool_size, name = 'Pooling2'),\n",
    "\n",
    " Convolution2D(25, 4, 4, activation='relu', name = 'Conv3'),\n",
    " MaxPooling2D(pool_size=pool_size, name = 'Pooling3'),\n",
    "    \n",
    " Convolution2D(25, 4, 4, activation='relu', name = 'Conv4'),\n",
    " MaxPooling2D(pool_size=pool_size, name = 'Pooling4'),\n",
    "\n",
    "\n",
    " Flatten(),\n",
    "\n",
    " Dense(output_dim=hidden_num_units, activation='relu', name = 'Dense1'),\n",
    " Dropout(0.5),\n",
    " Dense(output_dim=output_num_units, activation='softmax', name = 'out'),\n",
    "])\n",
    "\n",
    "model.compile(loss='categorical_crossentropy', optimizer='adam', metrics=['accuracy'])\n",
    "model.summary()"
   ]
  },
  {
   "cell_type": "code",
   "execution_count": 26,
   "metadata": {},
   "outputs": [
    {
     "name": "stderr",
     "output_type": "stream",
     "text": [
      "C:\\ProgramData\\Anaconda3\\lib\\site-packages\\ipykernel_launcher.py:1: UserWarning: The `nb_epoch` argument in `fit` has been renamed `epochs`.\n",
      "  \"\"\"Entry point for launching an IPython kernel.\n"
     ]
    },
    {
     "name": "stdout",
     "output_type": "stream",
     "text": [
      "Train on 146 samples, validate on 63 samples\n",
      "Epoch 1/50\n",
      "146/146 [==============================] - 1s 7ms/step - loss: 0.6691 - acc: 0.5890 - val_loss: 0.6268 - val_acc: 0.6825\n",
      "Epoch 2/50\n",
      "146/146 [==============================] - 1s 4ms/step - loss: 0.6456 - acc: 0.6438 - val_loss: 0.6278 - val_acc: 0.6825\n",
      "Epoch 3/50\n",
      "146/146 [==============================] - 1s 4ms/step - loss: 0.6355 - acc: 0.6507 - val_loss: 0.6073 - val_acc: 0.6825\n",
      "Epoch 4/50\n",
      "146/146 [==============================] - 1s 4ms/step - loss: 0.6291 - acc: 0.6370 - val_loss: 0.5999 - val_acc: 0.6825\n",
      "Epoch 5/50\n",
      "146/146 [==============================] - 1s 4ms/step - loss: 0.6233 - acc: 0.6370 - val_loss: 0.5746 - val_acc: 0.6825\n",
      "Epoch 6/50\n",
      "146/146 [==============================] - 1s 4ms/step - loss: 0.5981 - acc: 0.6301 - val_loss: 0.5465 - val_acc: 0.6825\n",
      "Epoch 7/50\n",
      "146/146 [==============================] - 1s 4ms/step - loss: 0.5606 - acc: 0.6575 - val_loss: 0.4923 - val_acc: 0.6825\n",
      "Epoch 8/50\n",
      "146/146 [==============================] - 1s 4ms/step - loss: 0.5509 - acc: 0.6575 - val_loss: 0.4996 - val_acc: 0.6825\n",
      "Epoch 9/50\n",
      "146/146 [==============================] - 1s 4ms/step - loss: 0.6081 - acc: 0.6712 - val_loss: 0.5842 - val_acc: 0.6825\n",
      "Epoch 10/50\n",
      "146/146 [==============================] - 1s 4ms/step - loss: 0.5682 - acc: 0.7055 - val_loss: 0.4626 - val_acc: 0.6825\n",
      "Epoch 11/50\n",
      "146/146 [==============================] - 1s 4ms/step - loss: 0.4911 - acc: 0.6849 - val_loss: 0.4314 - val_acc: 0.7143\n",
      "Epoch 12/50\n",
      "146/146 [==============================] - 1s 4ms/step - loss: 0.4635 - acc: 0.7534 - val_loss: 0.4305 - val_acc: 0.8571\n",
      "Epoch 13/50\n",
      "146/146 [==============================] - 1s 4ms/step - loss: 0.4513 - acc: 0.7671 - val_loss: 0.4445 - val_acc: 0.8095\n",
      "Epoch 14/50\n",
      "146/146 [==============================] - 1s 4ms/step - loss: 0.5669 - acc: 0.6370 - val_loss: 0.5401 - val_acc: 0.6508\n",
      "Epoch 15/50\n",
      "146/146 [==============================] - 1s 4ms/step - loss: 0.4837 - acc: 0.7055 - val_loss: 0.4301 - val_acc: 0.7619\n",
      "Epoch 16/50\n",
      "146/146 [==============================] - 1s 4ms/step - loss: 0.4323 - acc: 0.7603 - val_loss: 0.4145 - val_acc: 0.8571\n",
      "Epoch 17/50\n",
      "146/146 [==============================] - 1s 4ms/step - loss: 0.4100 - acc: 0.7808 - val_loss: 0.4139 - val_acc: 0.8571\n",
      "Epoch 18/50\n",
      "146/146 [==============================] - 1s 4ms/step - loss: 0.4119 - acc: 0.8151 - val_loss: 0.4163 - val_acc: 0.8571\n",
      "Epoch 19/50\n",
      "146/146 [==============================] - 1s 4ms/step - loss: 0.4422 - acc: 0.7945 - val_loss: 0.4132 - val_acc: 0.8413\n",
      "Epoch 20/50\n",
      "146/146 [==============================] - 1s 4ms/step - loss: 0.4242 - acc: 0.8288 - val_loss: 0.4252 - val_acc: 0.8254\n",
      "Epoch 21/50\n",
      "146/146 [==============================] - 1s 4ms/step - loss: 0.4296 - acc: 0.8151 - val_loss: 0.4251 - val_acc: 0.8095\n",
      "Epoch 22/50\n",
      "146/146 [==============================] - 1s 4ms/step - loss: 0.4406 - acc: 0.8082 - val_loss: 0.4285 - val_acc: 0.8095\n",
      "Epoch 23/50\n",
      "146/146 [==============================] - 1s 4ms/step - loss: 0.4547 - acc: 0.7603 - val_loss: 0.4205 - val_acc: 0.8413\n",
      "Epoch 24/50\n",
      "146/146 [==============================] - 1s 4ms/step - loss: 0.3902 - acc: 0.8425 - val_loss: 0.4416 - val_acc: 0.8095\n",
      "Epoch 25/50\n",
      "146/146 [==============================] - 1s 4ms/step - loss: 0.3987 - acc: 0.8425 - val_loss: 0.4161 - val_acc: 0.8413\n",
      "Epoch 26/50\n",
      "146/146 [==============================] - 1s 4ms/step - loss: 0.3205 - acc: 0.9110 - val_loss: 0.4051 - val_acc: 0.8730\n",
      "Epoch 27/50\n",
      "146/146 [==============================] - 1s 4ms/step - loss: 0.2964 - acc: 0.8836 - val_loss: 0.4136 - val_acc: 0.8413\n",
      "Epoch 28/50\n",
      "146/146 [==============================] - 1s 4ms/step - loss: 0.2789 - acc: 0.8904 - val_loss: 0.4585 - val_acc: 0.8095\n",
      "Epoch 29/50\n",
      "146/146 [==============================] - 1s 5ms/step - loss: 0.2934 - acc: 0.8493 - val_loss: 0.4220 - val_acc: 0.8254\n",
      "Epoch 30/50\n",
      "146/146 [==============================] - 1s 4ms/step - loss: 0.3663 - acc: 0.8219 - val_loss: 0.4477 - val_acc: 0.8254\n",
      "Epoch 31/50\n",
      "146/146 [==============================] - 1s 4ms/step - loss: 0.4023 - acc: 0.8151 - val_loss: 0.5241 - val_acc: 0.6984\n",
      "Epoch 32/50\n",
      "146/146 [==============================] - 1s 4ms/step - loss: 0.4400 - acc: 0.7808 - val_loss: 0.4626 - val_acc: 0.7302\n",
      "Epoch 33/50\n",
      "146/146 [==============================] - 1s 4ms/step - loss: 0.4323 - acc: 0.7877 - val_loss: 0.3960 - val_acc: 0.8254\n",
      "Epoch 34/50\n",
      "146/146 [==============================] - 1s 4ms/step - loss: 0.3619 - acc: 0.8288 - val_loss: 0.3600 - val_acc: 0.8413\n",
      "Epoch 35/50\n",
      "146/146 [==============================] - 1s 4ms/step - loss: 0.3611 - acc: 0.8288 - val_loss: 0.4398 - val_acc: 0.7619\n",
      "Epoch 36/50\n",
      "146/146 [==============================] - 1s 4ms/step - loss: 0.3581 - acc: 0.8562 - val_loss: 0.3859 - val_acc: 0.7937\n",
      "Epoch 37/50\n",
      "146/146 [==============================] - 1s 4ms/step - loss: 0.3484 - acc: 0.8356 - val_loss: 0.3860 - val_acc: 0.8571\n",
      "Epoch 38/50\n",
      "146/146 [==============================] - 1s 4ms/step - loss: 0.3398 - acc: 0.8562 - val_loss: 0.4235 - val_acc: 0.7937\n",
      "Epoch 39/50\n",
      "146/146 [==============================] - 1s 4ms/step - loss: 0.3352 - acc: 0.8562 - val_loss: 0.4571 - val_acc: 0.8413\n",
      "Epoch 40/50\n",
      "146/146 [==============================] - 1s 4ms/step - loss: 0.4099 - acc: 0.8288 - val_loss: 0.4232 - val_acc: 0.8254\n",
      "Epoch 41/50\n",
      "146/146 [==============================] - 1s 4ms/step - loss: 0.2955 - acc: 0.8767 - val_loss: 0.4090 - val_acc: 0.8730\n",
      "Epoch 42/50\n",
      "146/146 [==============================] - 1s 4ms/step - loss: 0.3086 - acc: 0.8699 - val_loss: 0.4279 - val_acc: 0.8095\n",
      "Epoch 43/50\n",
      "146/146 [==============================] - 1s 4ms/step - loss: 0.3051 - acc: 0.8767 - val_loss: 0.4878 - val_acc: 0.7619\n",
      "Epoch 44/50\n",
      "146/146 [==============================] - 1s 4ms/step - loss: 0.3062 - acc: 0.8767 - val_loss: 0.3812 - val_acc: 0.8889\n",
      "Epoch 45/50\n",
      "146/146 [==============================] - 1s 5ms/step - loss: 0.2633 - acc: 0.8973 - val_loss: 0.3967 - val_acc: 0.8571\n",
      "Epoch 46/50\n",
      "146/146 [==============================] - 1s 5ms/step - loss: 0.2733 - acc: 0.9041 - val_loss: 0.3626 - val_acc: 0.8730\n",
      "Epoch 47/50\n",
      "146/146 [==============================] - 1s 4ms/step - loss: 0.2648 - acc: 0.9178 - val_loss: 0.4016 - val_acc: 0.8254\n",
      "Epoch 48/50\n",
      "146/146 [==============================] - 1s 4ms/step - loss: 0.2575 - acc: 0.9041 - val_loss: 0.4347 - val_acc: 0.8571\n",
      "Epoch 49/50\n",
      "146/146 [==============================] - 1s 4ms/step - loss: 0.2835 - acc: 0.8836 - val_loss: 0.4563 - val_acc: 0.8095\n",
      "Epoch 50/50\n",
      "146/146 [==============================] - 1s 4ms/step - loss: 0.3024 - acc: 0.8493 - val_loss: 0.3760 - val_acc: 0.8730\n"
     ]
    }
   ],
   "source": [
    "trained_model_conv = model.fit(train_x_temp, train_y, nb_epoch=epochs, validation_data=(val_x_temp, val_y))"
   ]
  },
  {
   "cell_type": "code",
   "execution_count": 27,
   "metadata": {},
   "outputs": [
    {
     "data": {
      "image/png": "[encoded data removed]",
      "text/plain": [
       "<Figure size 432x288 with 1 Axes>"
      ]
     },
     "metadata": {
      "needs_background": "light"
     },
     "output_type": "display_data"
    },
    {
     "data": {
      "image/png": "[encoded data removed]",
      "text/plain": [
       "<Figure size 432x288 with 1 Axes>"
      ]
     },
     "metadata": {
      "needs_background": "light"
     },
     "output_type": "display_data"
    }
   ],
   "source": [
    "# summarize history for accuracy\n",
    "plt.plot(trained_model_conv.history['acc'])\n",
    "plt.plot(trained_model_conv.history['val_acc'])\n",
    "plt.title('model accuracy')\n",
    "plt.ylabel('accuracy')\n",
    "plt.xlabel('epoch')\n",
    "plt.legend(['train', 'test'], loc='upper left')\n",
    "plt.show()\n",
    "# summarize history for loss\n",
    "plt.plot(trained_model_conv.history['loss'])\n",
    "plt.plot(trained_model_conv.history['val_loss'])\n",
    "plt.title('model loss')\n",
    "plt.ylabel('loss')\n",
    "plt.xlabel('epoch')\n",
    "plt.legend(['train', 'test'], loc='upper left')\n",
    "plt.show()"
   ]
  }
 ],
 "metadata": {
  "kernelspec": {
   "display_name": "Python 3",
   "language": "python",
   "name": "python3"
  },
  "language_info": {
   "codemirror_mode": {
    "name": "ipython",
    "version": 3
   },
   "file_extension": ".py",
   "mimetype": "text/x-python",
   "name": "python",
   "nbconvert_exporter": "python",
   "pygments_lexer": "ipython3",
   "version": "3.7.3"
  }
 },
 "nbformat": 4,
 "nbformat_minor": 2
}
